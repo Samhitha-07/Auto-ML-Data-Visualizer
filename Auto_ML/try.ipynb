{
 "cells": [
  {
   "cell_type": "code",
   "execution_count": 10,
   "metadata": {},
   "outputs": [
    {
     "name": "stdout",
     "output_type": "stream",
     "text": [
      "Epoch 1/10\n",
      "\u001b[1m1875/1875\u001b[0m \u001b[32m━━━━━━━━━━━━━━━━━━━━\u001b[0m\u001b[37m\u001b[0m \u001b[1m9s\u001b[0m 4ms/step - accuracy: 0.8768 - loss: 0.4214 - val_accuracy: 0.9647 - val_loss: 0.1186\n",
      "Epoch 2/10\n",
      "\u001b[1m1875/1875\u001b[0m \u001b[32m━━━━━━━━━━━━━━━━━━━━\u001b[0m\u001b[37m\u001b[0m \u001b[1m7s\u001b[0m 4ms/step - accuracy: 0.9665 - loss: 0.1055 - val_accuracy: 0.9690 - val_loss: 0.0938\n",
      "Epoch 3/10\n",
      "\u001b[1m1875/1875\u001b[0m \u001b[32m━━━━━━━━━━━━━━━━━━━━\u001b[0m\u001b[37m\u001b[0m \u001b[1m8s\u001b[0m 4ms/step - accuracy: 0.9781 - loss: 0.0710 - val_accuracy: 0.9735 - val_loss: 0.0826\n",
      "Epoch 4/10\n",
      "\u001b[1m1875/1875\u001b[0m \u001b[32m━━━━━━━━━━━━━━━━━━━━\u001b[0m\u001b[37m\u001b[0m \u001b[1m8s\u001b[0m 4ms/step - accuracy: 0.9842 - loss: 0.0504 - val_accuracy: 0.9733 - val_loss: 0.0940\n",
      "Epoch 5/10\n",
      "\u001b[1m1875/1875\u001b[0m \u001b[32m━━━━━━━━━━━━━━━━━━━━\u001b[0m\u001b[37m\u001b[0m \u001b[1m8s\u001b[0m 4ms/step - accuracy: 0.9876 - loss: 0.0408 - val_accuracy: 0.9784 - val_loss: 0.0756\n",
      "Epoch 6/10\n",
      "\u001b[1m1875/1875\u001b[0m \u001b[32m━━━━━━━━━━━━━━━━━━━━\u001b[0m\u001b[37m\u001b[0m \u001b[1m8s\u001b[0m 4ms/step - accuracy: 0.9903 - loss: 0.0298 - val_accuracy: 0.9772 - val_loss: 0.0810\n",
      "Epoch 7/10\n",
      "\u001b[1m1875/1875\u001b[0m \u001b[32m━━━━━━━━━━━━━━━━━━━━\u001b[0m\u001b[37m\u001b[0m \u001b[1m7s\u001b[0m 4ms/step - accuracy: 0.9916 - loss: 0.0251 - val_accuracy: 0.9774 - val_loss: 0.0848\n",
      "Epoch 8/10\n",
      "\u001b[1m1875/1875\u001b[0m \u001b[32m━━━━━━━━━━━━━━━━━━━━\u001b[0m\u001b[37m\u001b[0m \u001b[1m8s\u001b[0m 4ms/step - accuracy: 0.9938 - loss: 0.0204 - val_accuracy: 0.9772 - val_loss: 0.0891\n",
      "Epoch 9/10\n",
      "\u001b[1m1875/1875\u001b[0m \u001b[32m━━━━━━━━━━━━━━━━━━━━\u001b[0m\u001b[37m\u001b[0m \u001b[1m8s\u001b[0m 4ms/step - accuracy: 0.9939 - loss: 0.0184 - val_accuracy: 0.9781 - val_loss: 0.0874\n",
      "Epoch 10/10\n",
      "\u001b[1m1875/1875\u001b[0m \u001b[32m━━━━━━━━━━━━━━━━━━━━\u001b[0m\u001b[37m\u001b[0m \u001b[1m8s\u001b[0m 4ms/step - accuracy: 0.9941 - loss: 0.0178 - val_accuracy: 0.9783 - val_loss: 0.0899\n",
      "\u001b[1m313/313\u001b[0m \u001b[32m━━━━━━━━━━━━━━━━━━━━\u001b[0m\u001b[37m\u001b[0m \u001b[1m1s\u001b[0m 2ms/step - accuracy: 0.9750 - loss: 0.1058\n",
      "Loss: 0.08993247896432877, Accuracy: 0.9782999753952026\n",
      "\u001b[1m313/313\u001b[0m \u001b[32m━━━━━━━━━━━━━━━━━━━━\u001b[0m\u001b[37m\u001b[0m \u001b[1m1s\u001b[0m 2ms/step\n"
     ]
    },
    {
     "name": "stderr",
     "output_type": "stream",
     "text": [
      "WARNING:absl:You are saving your model as an HDF5 file via `model.save()` or `keras.saving.save_model(model)`. This file format is considered legacy. We recommend using instead the native Keras format, e.g. `model.save('my_model.keras')` or `keras.saving.save_model(model, 'my_model.keras')`. \n"
     ]
    },
    {
     "name": "stdout",
     "output_type": "stream",
     "text": [
      "[[2.3012397e-12 2.7693250e-09 2.8239418e-11 ... 9.9999988e-01\n",
      "  4.4954429e-13 2.9276630e-09]\n",
      " [1.6512808e-12 4.8222842e-06 9.9999523e-01 ... 5.5711094e-13\n",
      "  3.3521985e-08 1.2988699e-19]\n",
      " [4.1112660e-09 9.9998593e-01 3.8589656e-06 ... 5.5386308e-06\n",
      "  4.6183386e-06 3.1314485e-08]\n",
      " ...\n",
      " [1.5667316e-19 4.9450766e-11 2.3022993e-22 ... 1.7326222e-09\n",
      "  1.0753512e-11 6.6216600e-08]\n",
      " [1.3548310e-15 1.6030257e-16 1.3728342e-19 ... 4.1751119e-13\n",
      "  4.6962761e-08 7.7890331e-20]\n",
      " [3.7590668e-12 4.1561227e-17 3.0546105e-14 ... 6.3485926e-21\n",
      "  2.0649723e-11 1.2921865e-16]]\n"
     ]
    }
   ],
   "source": [
    "import tensorflow as tf\n",
    "\n",
    "class NeuralNetwork:\n",
    "    def __init__(self, input_size, hidden_layers, output_size):\n",
    "        self.input_size = input_size\n",
    "        self.hidden_layers = hidden_layers\n",
    "        self.output_size = output_size\n",
    "        \n",
    "        self.model = self._build_model()\n",
    "\n",
    "    def _build_model(self):\n",
    "        model = tf.keras.Sequential()\n",
    "        \n",
    "        # Input layer\n",
    "        model.add(tf.keras.layers.Input(shape=(self.input_size,)))\n",
    "        \n",
    "        # Hidden layers\n",
    "        for units in self.hidden_layers:\n",
    "            model.add(tf.keras.layers.Dense(units, activation='relu'))\n",
    "        \n",
    "        # Output layer\n",
    "        model.add(tf.keras.layers.Dense(self.output_size, activation='softmax'))\n",
    "        \n",
    "        return model\n",
    "\n",
    "    def train(self, X_train, y_train, epochs=10, batch_size=32, validation_data=None):\n",
    "        self.model.compile(optimizer='adam', loss='sparse_categorical_crossentropy', metrics=['accuracy'])\n",
    "        self.model.fit(X_train, y_train, epochs=epochs, batch_size=batch_size, validation_data=validation_data)\n",
    "\n",
    "    def evaluate(self, X_test, y_test):\n",
    "        return self.model.evaluate(X_test, y_test)\n",
    "\n",
    "    def predict(self, X):\n",
    "        return self.model.predict(X)\n",
    "\n",
    "# Example usage\n",
    "if __name__ == \"__main__\":\n",
    "    # Example dataset (replace with your own dataset)\n",
    "    from tensorflow.keras.datasets import mnist\n",
    "\n",
    "    (X_train, y_train), (X_test, y_test) = mnist.load_data()\n",
    "    X_train = X_train.reshape(X_train.shape[0], -1) / 255.0\n",
    "    X_test = X_test.reshape(X_test.shape[0], -1) / 255.0\n",
    "    \n",
    "    # Create a neural network\n",
    "    input_size = X_train.shape[1]\n",
    "    hidden_layers = [128, 64]\n",
    "    output_size = 10\n",
    "    nn = NeuralNetwork(input_size, hidden_layers, output_size)\n",
    "    \n",
    "    # Train the neural network\n",
    "    nn.train(X_train, y_train, epochs=10, batch_size=32, validation_data=(X_test, y_test))\n",
    "    \n",
    "    # Evaluate the neural network\n",
    "    loss, accuracy = nn.evaluate(X_test, y_test)\n",
    "    \n",
    "    print(f'Loss: {loss}, Accuracy: {accuracy}')\n",
    "    \n",
    "    # Make predictions\n",
    "    predictions = nn.predict(X_test)\n",
    "    print(predictions)\n",
    "    \n",
    "    # Save the model\n",
    "    nn.model.save('model.h5')\n",
    "    "
   ]
  },
  {
   "cell_type": "code",
   "execution_count": 2,
   "metadata": {},
   "outputs": [
    {
     "name": "stdout",
     "output_type": "stream",
     "text": [
      "^C\n"
     ]
    }
   ],
   "source": [
    "!streamlit run app.py"
   ]
  },
  {
   "cell_type": "code",
   "execution_count": 3,
   "metadata": {},
   "outputs": [
    {
     "name": "stdout",
     "output_type": "stream",
     "text": [
      "^C\n"
     ]
    }
   ],
   "source": [
    "!streamlit run app4.py"
   ]
  },
  {
   "cell_type": "code",
   "execution_count": 6,
   "metadata": {},
   "outputs": [
    {
     "name": "stdout",
     "output_type": "stream",
     "text": [
      "^C\n"
     ]
    }
   ],
   "source": [
    "!streamlit run main.py"
   ]
  },
  {
   "cell_type": "code",
   "execution_count": 5,
   "metadata": {},
   "outputs": [
    {
     "name": "stdout",
     "output_type": "stream",
     "text": [
      "^C\n"
     ]
    }
   ],
   "source": [
    "!streamlit run try.py"
   ]
  },
  {
   "cell_type": "code",
   "execution_count": null,
   "metadata": {},
   "outputs": [],
   "source": []
  }
 ],
 "metadata": {
  "kernelspec": {
   "display_name": "Python 3",
   "language": "python",
   "name": "python3"
  },
  "language_info": {
   "codemirror_mode": {
    "name": "ipython",
    "version": 3
   },
   "file_extension": ".py",
   "mimetype": "text/x-python",
   "name": "python",
   "nbconvert_exporter": "python",
   "pygments_lexer": "ipython3",
   "version": "3.11.4"
  }
 },
 "nbformat": 4,
 "nbformat_minor": 2
}
